{
 "cells": [
  {
   "cell_type": "code",
   "execution_count": 2,
   "metadata": {},
   "outputs": [],
   "source": [
    "# lets create a basic function\n",
    "def my_func():\n",
    "    print(\"This is myfunc function\")"
   ]
  },
  {
   "cell_type": "code",
   "execution_count": 3,
   "metadata": {},
   "outputs": [
    {
     "name": "stdout",
     "output_type": "stream",
     "text": [
      "This is myfunc function\n"
     ]
    }
   ],
   "source": [
    "my_func()"
   ]
  },
  {
   "cell_type": "code",
   "execution_count": 11,
   "metadata": {},
   "outputs": [
    {
     "name": "stdout",
     "output_type": "stream",
     "text": [
      "This is myfunc function\n"
     ]
    }
   ],
   "source": [
    "# lets store the function in a variable\n",
    "mf= my_func()"
   ]
  },
  {
   "cell_type": "code",
   "execution_count": 12,
   "metadata": {},
   "outputs": [],
   "source": [
    "mf"
   ]
  },
  {
   "cell_type": "code",
   "execution_count": 13,
   "metadata": {},
   "outputs": [
    {
     "name": "stdout",
     "output_type": "stream",
     "text": [
      "None\n"
     ]
    }
   ],
   "source": [
    "print(mf)"
   ]
  },
  {
   "cell_type": "code",
   "execution_count": 21,
   "metadata": {},
   "outputs": [],
   "source": [
    "def my_func1():\n",
    "    return (\"This is myfunc1 function\")"
   ]
  },
  {
   "cell_type": "code",
   "execution_count": 22,
   "metadata": {},
   "outputs": [],
   "source": [
    "mf1=my_func1()"
   ]
  },
  {
   "cell_type": "code",
   "execution_count": 23,
   "metadata": {},
   "outputs": [
    {
     "name": "stdout",
     "output_type": "stream",
     "text": [
      "This is myfunc1 function\n"
     ]
    }
   ],
   "source": [
    "print(mf1)"
   ]
  },
  {
   "cell_type": "code",
   "execution_count": 24,
   "metadata": {},
   "outputs": [],
   "source": [
    "# lets delete my_func1()\n",
    "del my_func1"
   ]
  },
  {
   "cell_type": "code",
   "execution_count": 26,
   "metadata": {},
   "outputs": [
    {
     "name": "stdout",
     "output_type": "stream",
     "text": [
      "This is myfunc1 function\n"
     ]
    }
   ],
   "source": [
    "print(mf1) # mf1 still prints, because it copied the fuinction into another variable \n",
    "# This is called function copy"
   ]
  },
  {
   "cell_type": "code",
   "execution_count": 28,
   "metadata": {},
   "outputs": [
    {
     "ename": "NameError",
     "evalue": "name 'my_func1' is not defined",
     "output_type": "error",
     "traceback": [
      "\u001b[1;31m---------------------------------------------------------------------------\u001b[0m",
      "\u001b[1;31mNameError\u001b[0m                                 Traceback (most recent call last)",
      "Cell \u001b[1;32mIn[28], line 1\u001b[0m\n\u001b[1;32m----> 1\u001b[0m \u001b[43mmy_func1\u001b[49m() \u001b[38;5;66;03m# because we have deleted the function in prvious cell\u001b[39;00m\n",
      "\u001b[1;31mNameError\u001b[0m: name 'my_func1' is not defined"
     ]
    }
   ],
   "source": [
    "my_func1() # because we have deleted the function in prvious cell"
   ]
  },
  {
   "cell_type": "code",
   "execution_count": 62,
   "metadata": {},
   "outputs": [],
   "source": [
    "# closures\n",
    "# function inside a function\n",
    "# sub fnction can access the variable of the parent function like inp in this case\n",
    "def main_func():\n",
    "    inp='Input by user'\n",
    "    def sub_main_func():\n",
    "        print(\"welcome to the closure functionality\")\n",
    "        print(inp)\n",
    "        print('This is the final understanding')\n",
    "    return sub_main_func()"
   ]
  },
  {
   "cell_type": "code",
   "execution_count": 63,
   "metadata": {},
   "outputs": [
    {
     "name": "stdout",
     "output_type": "stream",
     "text": [
      "welcome to the closure functionality\n",
      "Input by user\n",
      "This is the final understanding\n"
     ]
    }
   ],
   "source": [
    "main_func() # inp is accesible inside the sub class function"
   ]
  },
  {
   "cell_type": "code",
   "execution_count": 65,
   "metadata": {},
   "outputs": [],
   "source": [
    "# lets guve inbuilt function as the parameter to the main_func, lets call it\n",
    "# initial decorators\n",
    "# inside a function we can give other fuinction as a parameter\n",
    "def main_func1(func):\n",
    "    #inp='Input by user'\n",
    "    def sub_main_func():\n",
    "        print(\"welcome to the closure functionality\")\n",
    "        func('this output is from in built function')\n",
    "        print('This is the final understanding')\n",
    "    return sub_main_func()"
   ]
  },
  {
   "cell_type": "code",
   "execution_count": 61,
   "metadata": {},
   "outputs": [
    {
     "name": "stdout",
     "output_type": "stream",
     "text": [
      "welcome to the closure functionality\n",
      "this output is from in built function\n",
      "This is the final understanding\n"
     ]
    }
   ],
   "source": [
    "main_func1(print) # print is inbuilt function"
   ]
  },
  {
   "cell_type": "code",
   "execution_count": 88,
   "metadata": {},
   "outputs": [],
   "source": [
    "# lets create user defined function\n",
    "def my_superstar():\n",
    "    print(\"This is super star function\")\n",
    "    \n",
    "# decorattors with user defined function\n",
    "\n",
    "\n",
    "def main_func2(func):\n",
    "    #inp='Input by user'\n",
    "    def sub_main_func():\n",
    "        print(\"welcome to the closure functionality\")\n",
    "        func()\n",
    "        print('This is the final understanding')\n",
    "    return sub_main_func()"
   ]
  },
  {
   "cell_type": "code",
   "execution_count": 89,
   "metadata": {},
   "outputs": [
    {
     "name": "stdout",
     "output_type": "stream",
     "text": [
      "This is super star function\n"
     ]
    }
   ],
   "source": [
    "my_superstar()"
   ]
  },
  {
   "cell_type": "code",
   "execution_count": 90,
   "metadata": {},
   "outputs": [
    {
     "name": "stdout",
     "output_type": "stream",
     "text": [
      "welcome to the closure functionality\n",
      "This is super star function\n",
      "This is the final understanding\n"
     ]
    }
   ],
   "source": [
    "main_func2(my_superstar)"
   ]
  },
  {
   "cell_type": "code",
   "execution_count": 91,
   "metadata": {},
   "outputs": [
    {
     "name": "stdout",
     "output_type": "stream",
     "text": [
      "welcome to the closure functionality\n",
      "This is superstar 2 function\n",
      "This is the final understanding\n"
     ]
    }
   ],
   "source": [
    "# decorators can be defined in two ways\n",
    "# one way\n",
    "@main_func2\n",
    "def my_superstar2():\n",
    "    print(\"This is superstar 2 function\")"
   ]
  },
  {
   "cell_type": "code",
   "execution_count": 92,
   "metadata": {},
   "outputs": [
    {
     "name": "stdout",
     "output_type": "stream",
     "text": [
      "welcome to the closure functionality\n"
     ]
    },
    {
     "ename": "TypeError",
     "evalue": "'NoneType' object is not callable",
     "output_type": "error",
     "traceback": [
      "\u001b[1;31m---------------------------------------------------------------------------\u001b[0m",
      "\u001b[1;31mTypeError\u001b[0m                                 Traceback (most recent call last)",
      "Cell \u001b[1;32mIn[92], line 2\u001b[0m\n\u001b[0;32m      1\u001b[0m \u001b[38;5;66;03m# another way\u001b[39;00m\n\u001b[1;32m----> 2\u001b[0m dec\u001b[38;5;241m=\u001b[39m\u001b[43mmain_func2\u001b[49m\u001b[43m(\u001b[49m\u001b[43mmy_superstar2\u001b[49m\u001b[43m)\u001b[49m\n",
      "Cell \u001b[1;32mIn[88], line 14\u001b[0m, in \u001b[0;36mmain_func2\u001b[1;34m(func)\u001b[0m\n\u001b[0;32m     12\u001b[0m     func()\n\u001b[0;32m     13\u001b[0m     \u001b[38;5;28mprint\u001b[39m(\u001b[38;5;124m'\u001b[39m\u001b[38;5;124mThis is the final understanding\u001b[39m\u001b[38;5;124m'\u001b[39m)\n\u001b[1;32m---> 14\u001b[0m \u001b[38;5;28;01mreturn\u001b[39;00m \u001b[43msub_main_func\u001b[49m\u001b[43m(\u001b[49m\u001b[43m)\u001b[49m\n",
      "Cell \u001b[1;32mIn[88], line 12\u001b[0m, in \u001b[0;36mmain_func2.<locals>.sub_main_func\u001b[1;34m()\u001b[0m\n\u001b[0;32m     10\u001b[0m \u001b[38;5;28;01mdef\u001b[39;00m \u001b[38;5;21msub_main_func\u001b[39m():\n\u001b[0;32m     11\u001b[0m     \u001b[38;5;28mprint\u001b[39m(\u001b[38;5;124m\"\u001b[39m\u001b[38;5;124mwelcome to the closure functionality\u001b[39m\u001b[38;5;124m\"\u001b[39m)\n\u001b[1;32m---> 12\u001b[0m     \u001b[43mfunc\u001b[49m\u001b[43m(\u001b[49m\u001b[43m)\u001b[49m\n\u001b[0;32m     13\u001b[0m     \u001b[38;5;28mprint\u001b[39m(\u001b[38;5;124m'\u001b[39m\u001b[38;5;124mThis is the final understanding\u001b[39m\u001b[38;5;124m'\u001b[39m)\n",
      "\u001b[1;31mTypeError\u001b[0m: 'NoneType' object is not callable"
     ]
    }
   ],
   "source": [
    "# another way\n",
    "dec=main_func2(my_superstar2)"
   ]
  }
 ],
 "metadata": {
  "kernelspec": {
   "display_name": "Python 3 (ipykernel)",
   "language": "python",
   "name": "python3"
  },
  "language_info": {
   "codemirror_mode": {
    "name": "ipython",
    "version": 3
   },
   "file_extension": ".py",
   "mimetype": "text/x-python",
   "name": "python",
   "nbconvert_exporter": "python",
   "pygments_lexer": "ipython3",
   "version": "3.8.5"
  }
 },
 "nbformat": 4,
 "nbformat_minor": 4
}
